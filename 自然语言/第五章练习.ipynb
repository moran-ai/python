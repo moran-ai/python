{
 "cells": [
  {
   "cell_type": "markdown",
   "metadata": {},
   "source": [
    "# 1"
   ]
  },
  {
   "cell_type": "code",
   "execution_count": 2,
   "metadata": {
    "collapsed": true
   },
   "outputs": [],
   "source": [
    "import nltk"
   ]
  },
  {
   "cell_type": "code",
   "execution_count": 4,
   "metadata": {},
   "outputs": [
    {
     "data": {
      "text/plain": [
       "[('They', 'PRP'),\n",
       " ('wind', 'VBP'),\n",
       " ('back', 'RB'),\n",
       " ('the', 'DT'),\n",
       " ('clock', 'NN'),\n",
       " (',', ','),\n",
       " ('while', 'IN'),\n",
       " ('we', 'PRP'),\n",
       " ('chase', 'VBP'),\n",
       " ('after', 'IN'),\n",
       " ('the', 'DT'),\n",
       " ('wind', 'NN')]"
      ]
     },
     "execution_count": 4,
     "metadata": {},
     "output_type": "execute_result"
    }
   ],
   "source": [
    "s='They wind back the clock,while we chase after the wind'\n",
    "s1=nltk.word_tokenize(s)\n",
    "s2=nltk.pos_tag(s1) \n",
    "s2"
   ]
  },
  {
   "cell_type": "markdown",
   "metadata": {},
   "source": [
    "# 2"
   ]
  },
  {
   "cell_type": "code",
   "execution_count": 7,
   "metadata": {},
   "outputs": [
    {
     "data": {
      "text/plain": [
       "defaultdict(list, {'N': ['color']})"
      ]
     },
     "execution_count": 7,
     "metadata": {},
     "output_type": "execute_result"
    }
   ],
   "source": [
    "d={'colorless':'ADJ','idea':'N','sleep':'V'} \n",
    "del d['sleep']\n",
    "d.update({'color':'N'}) \n",
    "d2=nltk.defaultdict(list)\n",
    "d2['N'].append('color') \n",
    "d2"
   ]
  },
  {
   "cell_type": "markdown",
   "metadata": {},
   "source": [
    "# 3"
   ]
  },
  {
   "cell_type": "code",
   "execution_count": 8,
   "metadata": {},
   "outputs": [
    {
     "name": "stdout",
     "output_type": "stream",
     "text": [
      "*** Introductory Examples for the NLTK Book ***\n",
      "Loading text1, ..., text9 and sent1, ..., sent9\n",
      "Type the name of the text or sentence to view it.\n",
      "Type: 'texts()' or 'sents()' to list the materials.\n",
      "text1: Moby Dick by Herman Melville 1851\n",
      "text2: Sense and Sensibility by Jane Austen 1811\n",
      "text3: The Book of Genesis\n",
      "text4: Inaugural Address Corpus\n",
      "text5: Chat Corpus\n",
      "text6: Monty Python and the Holy Grail\n",
      "text7: Wall Street Journal\n",
      "text8: Personals Corpus\n",
      "text9: The Man Who Was Thursday by G . K . Chesterton 1908\n",
      "Displaying 25 of 194 matches:\n",
      "by so much the more shall ye for ever go thankless ! Would that I could clear \n",
      "wallow up Jonah .\" -- JONAH . \" There go the ships ; there is that Leviathan w\n",
      "ur children ' s grand - children will go for bread .\" -- OBED MACY ' S HISTORY\n",
      " city of a dreamy Sabbath afternoon . Go from Corlears Hook to Coenties Slip ,\n",
      "ed upon the magic stream before him . Go visit the Prairies in June , when for\n",
      " him , at some time or other crazy to go to sea ? Why upon your first voyage a\n",
      " mean to have it inferred that I ever go to sea as a passenger . For to go as \n",
      "ver go to sea as a passenger . For to go as a passenger you must needs have a \n",
      ", as a general thing ;-- no , I never go as a passenger ; nor , though I am so\n",
      " I am something of a salt , do I ever go to sea as a Commodore , or a Captain \n",
      "e - houses the pyramids . No , when I go to sea , I go as a simple sailor , ri\n",
      " pyramids . No , when I go to sea , I go as a simple sailor , right before the\n",
      "s , and be content . Again , I always go to sea as a sailor , because they mak\n",
      "ves to perdition ! Finally , I always go to sea as a sailor , because of the w\n",
      " I should now take it into my head to go on a whaling voyage ; this the invisi\n",
      "ieces of silver ,-- So , wherever you go , Ishmael , said I to myself , as I s\n",
      " of the tinkling glasses within . But go on , Ishmael , said I at last ; don '\n",
      "line of the equator ; yea , ye gods ! go down to the fiery pit itself , in ord\n",
      "nd town ?-- but turn flukes again and go to sleep . Queequeg , look here -- yo\n",
      "ight , landlord ,\" said I , \" you may go .\" I turned in , and never slept bett\n",
      "us of stepmothers , and back I had to go to my room . For several hours I lay \n",
      "inched and tormented him at the first go off of a bitter cold morning . Seeing\n",
      "is once scraggy scoria of a country ? Go and gaze upon the iron emblematical h\n",
      " a few porpoises a - piece . You must go to New Bedford to see a brilliant wed\n",
      "es and all the world . But we did not go to sleep without some little chat . H\n",
      "Displaying 25 of 97 matches:\n",
      "boots are stopping the way . So on I went . I now by instinct followed the str\n",
      "re I did . Supper over , the company went back to the bar - room , when , know\n",
      "stove in the middle of the room , he went about his business , and left me in \n",
      "catches the worm . But to - night he went out a peddling , you see , and I don\n",
      "ter a moment , and then up stairs we went , and I was ushered into a small roo\n",
      "d been wearing it of a rainy day . I went up in it to a bit of glass stuck aga\n",
      " for shuddering , for now the savage went about something that completely fasc\n",
      " was no help for it , so up stairs I went to my little room in the third floor\n",
      "d , flinging open a door , and in we went to breakfast . They say that men who\n",
      "aged his interest ; and from that we went to jabbering the best we could about\n",
      "d another social chat and smoke , we went to our room together . He made me a \n",
      " pockets . I let them stay . He then went about his evening prayers , took out\n",
      "e ; and that done , we undressed and went to bed , at peace with our own consc\n",
      " s canvas sack and hammock , away we went down to \" the Moss ,\" the little Nan\n",
      "nugly to anchor , and Queequeg and I went ashore ; so we could attend to no bu\n",
      "\" said Bildad , eyeing me , and then went on spelling away at his book in a mu\n",
      "dings ; Bildad never heeded us , but went on mumbling to himself out of his bo\n",
      " without lifting his eyes ; and then went on mumbling --\" for where your treas\n",
      "d , after signing the papers , off I went ; nothing doubting but that I had do\n",
      "rmances and rituals must be over , I went up to his room and knocked at the do\n",
      "ght something must be the matter . I went to make the bed after breakfast , an\n",
      "elieve it ' s very punctual then . I went down to supper . After sitting a lon\n",
      "ers till nearly eleven o ' clock , I went up stairs to go to bed , feeling qui\n",
      ", and lie and listen to me .\" I then went on , beginning with the rise and pro\n",
      "r yet out of Nantucket .\" So down we went into the cabin , and to my great joy\n"
     ]
    }
   ],
   "source": [
    "from nltk.book import *\n",
    "text1.concordance('go')\n",
    "text1.concordance('went')"
   ]
  },
  {
   "cell_type": "markdown",
   "metadata": {},
   "source": [
    "# 4"
   ]
  },
  {
   "cell_type": "code",
   "execution_count": 15,
   "metadata": {},
   "outputs": [
    {
     "data": {
      "text/plain": [
       "0.9349006503968017"
      ]
     },
     "execution_count": 15,
     "metadata": {},
     "output_type": "execute_result"
    }
   ],
   "source": [
    "from nltk.corpus import brown\n",
    "brown_tagged_sents=brown.tagged_sents(categories='news')\n",
    "brown_sents=brown.sents(categories='news')\n",
    "unigram_tagger=nltk.UnigramTagger(brown_tagged_sents)\n",
    "unigram_tagger.tag(brown_sents[2007])\n",
    "unigram_tagger.evaluate(brown_tagged_sents)"
   ]
  },
  {
   "cell_type": "markdown",
   "metadata": {},
   "source": [
    "# 5"
   ]
  },
  {
   "cell_type": "code",
   "execution_count": 14,
   "metadata": {},
   "outputs": [
    {
     "data": {
      "text/plain": [
       "[('Various', 'JJ'),\n",
       " ('of', None),\n",
       " ('the', None),\n",
       " ('apartments', 'NNS'),\n",
       " ('are', None),\n",
       " ('of', None),\n",
       " ('the', None),\n",
       " ('terrace', 'NN'),\n",
       " ('type', None),\n",
       " (',', None),\n",
       " ('being', 'VBG'),\n",
       " ('on', None),\n",
       " ('the', None),\n",
       " ('ground', 'NN'),\n",
       " ('floor', 'NN'),\n",
       " ('so', None),\n",
       " ('that', None),\n",
       " ('entrance', 'NN'),\n",
       " ('is', None),\n",
       " ('direct', 'NN'),\n",
       " ('.', None)]"
      ]
     },
     "execution_count": 14,
     "metadata": {},
     "output_type": "execute_result"
    }
   ],
   "source": [
    "import nltk\n",
    "from nltk.corpus import brown\n",
    "brown_sents=brown.sents(categories='news')\n",
    "brown_tagged_sents=brown.tagged_sents(categories='news')\n",
    "affixtagger=nltk.AffixTagger(brown_tagged_sents)\n",
    "affixtagger.tag(brown_sents[2007])"
   ]
  },
  {
   "cell_type": "markdown",
   "metadata": {},
   "source": [
    "# 6"
   ]
  },
  {
   "cell_type": "code",
   "execution_count": 26,
   "metadata": {},
   "outputs": [
    {
     "name": "stdout",
     "output_type": "stream",
     "text": [
      "2016 8 15\n"
     ]
    }
   ],
   "source": [
    "d={'year':2016,'month':8,'day':15}\n",
    "print('%s %s %s'%(d['year'],d['month'],d['day']))"
   ]
  },
  {
   "cell_type": "markdown",
   "metadata": {},
   "source": [
    "# 7"
   ]
  },
  {
   "cell_type": "code",
   "execution_count": 22,
   "metadata": {},
   "outputs": [
    {
     "data": {
      "text/plain": [
       "['!',\n",
       " '$1',\n",
       " '$1,000',\n",
       " '$1,000,000,000',\n",
       " '$1,500',\n",
       " '$1,500,000',\n",
       " '$1,600',\n",
       " '$1,800',\n",
       " '$1.1',\n",
       " '$1.4',\n",
       " '$1.5',\n",
       " '$1.80',\n",
       " '$10',\n",
       " '$10,000',\n",
       " '$10,000-per-year',\n",
       " '$100',\n",
       " '$100,000',\n",
       " '$102,285,000',\n",
       " '$109',\n",
       " '$11.50',\n",
       " '$115,000',\n",
       " '$12',\n",
       " '$12,192,865',\n",
       " '$12,500',\n",
       " '$12.50',\n",
       " '$12.7',\n",
       " '$120',\n",
       " '$125',\n",
       " '$135',\n",
       " '$139.3',\n",
       " '$14',\n",
       " '$15',\n",
       " '$15,000',\n",
       " '$15,000,000',\n",
       " '$150',\n",
       " '$157,460',\n",
       " '$16',\n",
       " '$16,000',\n",
       " '$17',\n",
       " '$17,000',\n",
       " '$17.8',\n",
       " '$172,000',\n",
       " '$172,400',\n",
       " '$18',\n",
       " '$18.2',\n",
       " '$18.9',\n",
       " '$2',\n",
       " '$2,000',\n",
       " '$2,170',\n",
       " '$2,330,000',\n",
       " '$2,700',\n",
       " '$2.50',\n",
       " '$2.80',\n",
       " '$20',\n",
       " '$20,000',\n",
       " '$20,447,000',\n",
       " '$200,000',\n",
       " '$214',\n",
       " '$22',\n",
       " '$22.50',\n",
       " '$2400',\n",
       " '$25',\n",
       " '$25,000',\n",
       " '$25-a-plate',\n",
       " '$250',\n",
       " '$250,000',\n",
       " '$251',\n",
       " '$253,355,000',\n",
       " '$26,000,000',\n",
       " '$278,877,000',\n",
       " '$28',\n",
       " '$28,700,000',\n",
       " '$29,000',\n",
       " '$3',\n",
       " '$3,500',\n",
       " '$3,675',\n",
       " '$3.5',\n",
       " '$30',\n",
       " '$300',\n",
       " '$300,000,000',\n",
       " '$3100',\n",
       " '$32,000',\n",
       " '$325',\n",
       " '$344,000',\n",
       " '$37',\n",
       " '$37,500',\n",
       " '$39,000',\n",
       " '$39.5',\n",
       " '$4',\n",
       " '$4,177.37',\n",
       " '$4,500',\n",
       " '$4,700',\n",
       " '$4,800',\n",
       " '$40',\n",
       " '$40,000',\n",
       " '$40,000,000',\n",
       " '$400',\n",
       " '$43,000',\n",
       " '$45',\n",
       " '$450',\n",
       " '$451,500',\n",
       " '$457,000',\n",
       " '$46.7',\n",
       " '$47,101,000',\n",
       " '$5',\n",
       " '$5,000',\n",
       " '$5,000,000',\n",
       " '$5.2',\n",
       " '$50',\n",
       " '$50,000',\n",
       " '$500',\n",
       " '$5000',\n",
       " '$52,500',\n",
       " '$55,000',\n",
       " '$57,500',\n",
       " '$58,918',\n",
       " '$581,000',\n",
       " '$6,100,000,000',\n",
       " '$60',\n",
       " '$600',\n",
       " '$634,517,000',\n",
       " '$639',\n",
       " '$65',\n",
       " '$66,000',\n",
       " '$67,000',\n",
       " '$7,082',\n",
       " '$7,500,000',\n",
       " '$7.20',\n",
       " '$70',\n",
       " '$700',\n",
       " '$740,000',\n",
       " '$75',\n",
       " '$754',\n",
       " '$77,389,000',\n",
       " '$8',\n",
       " '$8,250',\n",
       " '$8,555',\n",
       " '$8.50',\n",
       " '$80',\n",
       " '$80,738',\n",
       " '$800',\n",
       " '$840,000',\n",
       " '$842,617',\n",
       " '$85',\n",
       " '$88,000',\n",
       " '$9',\n",
       " '$9,841,000',\n",
       " '$90',\n",
       " '$900',\n",
       " '&',\n",
       " \"'\",\n",
       " \"''\",\n",
       " \"'20's\",\n",
       " \"'40's\",\n",
       " \"'49\",\n",
       " \"'51\",\n",
       " \"'52\",\n",
       " \"'55\",\n",
       " \"'em\",\n",
       " '(',\n",
       " ')',\n",
       " ',',\n",
       " '--',\n",
       " '.',\n",
       " '0',\n",
       " '1',\n",
       " '1%',\n",
       " '1,000',\n",
       " '1,065',\n",
       " '1,119',\n",
       " '1,212,000',\n",
       " '1,253',\n",
       " '1,257,700',\n",
       " '1,400',\n",
       " '1,509',\n",
       " '1,512',\n",
       " '1,700',\n",
       " '1-0',\n",
       " '1-1/2',\n",
       " '1-1/2-story',\n",
       " '1-3',\n",
       " '1-inch',\n",
       " '1.09.3',\n",
       " '1.10.1',\n",
       " '1.10.4',\n",
       " '1.10.8',\n",
       " '1.23',\n",
       " '1.24',\n",
       " '1.5',\n",
       " '1.58',\n",
       " '10',\n",
       " '10%',\n",
       " '10,000',\n",
       " '10,000,000',\n",
       " '10-hour',\n",
       " \"10-o'clock\",\n",
       " '10-team',\n",
       " '10-year',\n",
       " '10-year-old',\n",
       " '100',\n",
       " '100%',\n",
       " '100,000',\n",
       " '100-yard',\n",
       " '1000',\n",
       " '101b',\n",
       " '102',\n",
       " '1020',\n",
       " '1044',\n",
       " '108',\n",
       " '10:30',\n",
       " '10:45',\n",
       " '10:50',\n",
       " '10th',\n",
       " '11',\n",
       " '11,744',\n",
       " '11-18',\n",
       " '11-3',\n",
       " '11-5',\n",
       " '11-7',\n",
       " '11-month-old',\n",
       " '11-year',\n",
       " '11-year-old',\n",
       " '110',\n",
       " '111',\n",
       " '114',\n",
       " '116',\n",
       " '11:30',\n",
       " '12',\n",
       " '12,000',\n",
       " '12-17',\n",
       " '12-month',\n",
       " '12-year-old',\n",
       " '120',\n",
       " '1200',\n",
       " '121',\n",
       " '1213',\n",
       " '1213-15',\n",
       " '1215',\n",
       " '124',\n",
       " '125,000',\n",
       " '126',\n",
       " '127',\n",
       " '129%',\n",
       " '12:01',\n",
       " '12:50',\n",
       " '12th',\n",
       " '13',\n",
       " '13%',\n",
       " '13-1/2',\n",
       " '13-5',\n",
       " '13-8',\n",
       " '13.5',\n",
       " '130',\n",
       " '130-year',\n",
       " '1311',\n",
       " '132,000',\n",
       " '133',\n",
       " '135',\n",
       " '13th',\n",
       " '14',\n",
       " '14%',\n",
       " '14-power',\n",
       " '14-term',\n",
       " '14.2',\n",
       " '1409',\n",
       " '142',\n",
       " '145',\n",
       " '145-pound',\n",
       " '149',\n",
       " '14th',\n",
       " '15',\n",
       " '15,000',\n",
       " '15-1',\n",
       " '15-hit',\n",
       " '15-year-old',\n",
       " '150',\n",
       " '150,000,000',\n",
       " '1500',\n",
       " '154',\n",
       " '155-yarder',\n",
       " '1565',\n",
       " '158-pounder',\n",
       " '15th',\n",
       " '16',\n",
       " '16,000',\n",
       " '16-22',\n",
       " '16-year-old',\n",
       " '160',\n",
       " '160,000',\n",
       " '1600',\n",
       " '162',\n",
       " '162-game',\n",
       " '1630',\n",
       " '165-unit',\n",
       " '1671',\n",
       " '1688',\n",
       " '169',\n",
       " '16th',\n",
       " '17',\n",
       " '17,000',\n",
       " '17-1/2-inch',\n",
       " '173',\n",
       " '1733',\n",
       " '174',\n",
       " '175',\n",
       " '1776',\n",
       " '1792',\n",
       " '18',\n",
       " '18,792',\n",
       " '180',\n",
       " '180-degrees',\n",
       " \"1800's\",\n",
       " '182',\n",
       " '1825',\n",
       " '1834',\n",
       " '185,000',\n",
       " '1851',\n",
       " '1859',\n",
       " '186',\n",
       " '1865',\n",
       " '187-mile',\n",
       " '187.5',\n",
       " '1885',\n",
       " '1886',\n",
       " '189',\n",
       " '1891',\n",
       " '1896',\n",
       " '1899',\n",
       " '18th',\n",
       " '19',\n",
       " '19,000',\n",
       " '19-12',\n",
       " '1900',\n",
       " \"1900's\",\n",
       " '1908',\n",
       " '1910',\n",
       " '1910-14',\n",
       " '1912',\n",
       " '1913',\n",
       " '1914',\n",
       " '1917',\n",
       " '1919',\n",
       " '1920',\n",
       " '1920s',\n",
       " '1921',\n",
       " '1922',\n",
       " '1923',\n",
       " '1924',\n",
       " '1925',\n",
       " '1926',\n",
       " '1927',\n",
       " '1928',\n",
       " '1930',\n",
       " '1930s',\n",
       " '1932',\n",
       " '1933',\n",
       " '1934',\n",
       " '1935',\n",
       " '1937',\n",
       " '1938',\n",
       " '1940',\n",
       " '1940s',\n",
       " '1942',\n",
       " '1943',\n",
       " '1944',\n",
       " '1945',\n",
       " '1946',\n",
       " '1947',\n",
       " '1947-49',\n",
       " '1948',\n",
       " '1949',\n",
       " '195',\n",
       " '1950',\n",
       " '1950s',\n",
       " '1951',\n",
       " '1952',\n",
       " '1953',\n",
       " '1954',\n",
       " '1955',\n",
       " '1956',\n",
       " '1957',\n",
       " '1958',\n",
       " '1958-60',\n",
       " '1959',\n",
       " '1959-60',\n",
       " '1960',\n",
       " \"1960's\",\n",
       " '1960-61',\n",
       " '1960s',\n",
       " '1961',\n",
       " '1961-62',\n",
       " '1962',\n",
       " '1963',\n",
       " '1964',\n",
       " '1965',\n",
       " '1966',\n",
       " '1970',\n",
       " '1970s',\n",
       " '1971',\n",
       " '1976',\n",
       " '198',\n",
       " '1981',\n",
       " '1986',\n",
       " '1991',\n",
       " '19th',\n",
       " '1:35',\n",
       " '1:48',\n",
       " '2',\n",
       " '2%',\n",
       " '2,100',\n",
       " '2,418',\n",
       " '2,700,877',\n",
       " '2,963',\n",
       " '2-1/2',\n",
       " '2-3/4',\n",
       " '2-and-2',\n",
       " '2-baser',\n",
       " '2-hour-and-27-minute',\n",
       " '2-inch',\n",
       " '2-over-par',\n",
       " '2-run',\n",
       " '2-score-year',\n",
       " '2.21.6',\n",
       " '2.295%',\n",
       " '2.325%',\n",
       " '2.5%',\n",
       " '20',\n",
       " '20%',\n",
       " '20,000',\n",
       " '20-piece',\n",
       " '200',\n",
       " '205-pound',\n",
       " '206',\n",
       " '208-pound',\n",
       " '21',\n",
       " '21-2',\n",
       " '21-9',\n",
       " '21-year',\n",
       " '21-year-old',\n",
       " '210',\n",
       " '2100',\n",
       " '211',\n",
       " '213',\n",
       " '214',\n",
       " '215',\n",
       " '21st',\n",
       " '22',\n",
       " '22-12',\n",
       " '22-acre',\n",
       " '22-year-old',\n",
       " '220-yard',\n",
       " '22111',\n",
       " '224-170',\n",
       " '225,000',\n",
       " '2269',\n",
       " '2274',\n",
       " '228-229',\n",
       " '229',\n",
       " '23',\n",
       " '23-year-old',\n",
       " '237%',\n",
       " '23d',\n",
       " '24',\n",
       " '24-inch',\n",
       " '24-year-old',\n",
       " '240',\n",
       " '242%',\n",
       " '2433',\n",
       " '24th',\n",
       " '25',\n",
       " '25%',\n",
       " '25,000',\n",
       " '25,000,000',\n",
       " '25,000-man',\n",
       " '25-foot',\n",
       " '25-footer',\n",
       " '25-minute',\n",
       " '250',\n",
       " '250-275',\n",
       " '2544',\n",
       " '255',\n",
       " '25th',\n",
       " '26',\n",
       " '26-year-old',\n",
       " '260-member',\n",
       " '27',\n",
       " '27-year-old',\n",
       " '2705',\n",
       " '271',\n",
       " '273',\n",
       " '2731',\n",
       " '28',\n",
       " '280',\n",
       " '280-yard',\n",
       " '2809',\n",
       " '281',\n",
       " '2825',\n",
       " '28th',\n",
       " '29',\n",
       " '29-5',\n",
       " '29th',\n",
       " '2:30',\n",
       " '2d',\n",
       " '2nd',\n",
       " '3',\n",
       " '3,000',\n",
       " '3,325',\n",
       " '3,399',\n",
       " '3-0',\n",
       " '3-10',\n",
       " '3-5',\n",
       " '3-game',\n",
       " '3-hitter',\n",
       " '3-inch',\n",
       " '3-month',\n",
       " '3-run',\n",
       " '3-to-3',\n",
       " '3-to-o',\n",
       " '3-year-old',\n",
       " '3.1',\n",
       " '3.25',\n",
       " '3.28',\n",
       " '3.98',\n",
       " '30',\n",
       " '30,000',\n",
       " '30,000,000',\n",
       " '30-30',\n",
       " '300',\n",
       " '300,000',\n",
       " '300-450',\n",
       " '30th',\n",
       " '31',\n",
       " '31730',\n",
       " '3181',\n",
       " '31978',\n",
       " '31st',\n",
       " '32,000',\n",
       " '32,589',\n",
       " '3211',\n",
       " '3247',\n",
       " '325',\n",
       " '33',\n",
       " '33-man',\n",
       " '330',\n",
       " '3300',\n",
       " '33d',\n",
       " '34',\n",
       " '34.7',\n",
       " '340-blast',\n",
       " '34220',\n",
       " '343',\n",
       " '35',\n",
       " '350',\n",
       " '3505o',\n",
       " '354',\n",
       " '355',\n",
       " '357',\n",
       " '36',\n",
       " '36-year-old',\n",
       " '361',\n",
       " '3646',\n",
       " '36th',\n",
       " '37',\n",
       " '37,000',\n",
       " '37,679',\n",
       " '37-year-old',\n",
       " '375',\n",
       " '38',\n",
       " '38-7',\n",
       " '38-point',\n",
       " '380-foot',\n",
       " '39',\n",
       " '390-foot',\n",
       " '3:30',\n",
       " '3:57',\n",
       " '3rd',\n",
       " '4',\n",
       " '4,441',\n",
       " '4,500',\n",
       " '4-0',\n",
       " '4-1/2%',\n",
       " '4-13',\n",
       " '4-7/8',\n",
       " '4-H',\n",
       " '4-for-5',\n",
       " '4-homer',\n",
       " '4-under-par',\n",
       " '4-year',\n",
       " '4-year-old',\n",
       " '4.4',\n",
       " '40',\n",
       " '40%',\n",
       " '40-year-old',\n",
       " '400',\n",
       " '400,000,000',\n",
       " '402',\n",
       " '41',\n",
       " '41-8',\n",
       " '415',\n",
       " '42',\n",
       " '420',\n",
       " '42d',\n",
       " '43',\n",
       " '44',\n",
       " '44-year-old',\n",
       " '447',\n",
       " '45',\n",
       " '45-degree',\n",
       " '450',\n",
       " '46',\n",
       " '469',\n",
       " '46th',\n",
       " '47',\n",
       " '48',\n",
       " '480',\n",
       " '49',\n",
       " '4911',\n",
       " '49ers',\n",
       " '4:05',\n",
       " '4:18',\n",
       " '4:30',\n",
       " '4th',\n",
       " '5',\n",
       " '5%',\n",
       " '5,000',\n",
       " '5-1',\n",
       " '5-3',\n",
       " '5-4',\n",
       " '5-5',\n",
       " '5-day',\n",
       " '5-game',\n",
       " '5-run',\n",
       " '5-to-2',\n",
       " '5-to-3',\n",
       " '5.1',\n",
       " '50',\n",
       " '50%',\n",
       " '50,000,000',\n",
       " '50-year-old',\n",
       " '500',\n",
       " '5000',\n",
       " '508-yard',\n",
       " '50th',\n",
       " '51',\n",
       " '511',\n",
       " '5155',\n",
       " '51st',\n",
       " '52',\n",
       " '52-year',\n",
       " '52-year-old',\n",
       " '520-acre',\n",
       " '53-year-old',\n",
       " '54',\n",
       " '540',\n",
       " '543',\n",
       " '545-yard',\n",
       " '55',\n",
       " '553',\n",
       " '56',\n",
       " '56-yard',\n",
       " '57',\n",
       " '5777',\n",
       " '58',\n",
       " '5835',\n",
       " '5847',\n",
       " '58th',\n",
       " '59',\n",
       " '5:30',\n",
       " '6',\n",
       " '6,000',\n",
       " '6-12',\n",
       " '6-3',\n",
       " '6-3-3',\n",
       " '6-5',\n",
       " '6-6',\n",
       " '6-7',\n",
       " '6-foot',\n",
       " '6-foot-10',\n",
       " '6-foot-3-inch',\n",
       " '6-ounce',\n",
       " '6.5',\n",
       " '60',\n",
       " '60,000',\n",
       " '60-day',\n",
       " '60-inch',\n",
       " '600-yard',\n",
       " '61',\n",
       " '6124',\n",
       " '61st',\n",
       " '62',\n",
       " '62-year-old',\n",
       " '63',\n",
       " '637',\n",
       " '64',\n",
       " '64-cent',\n",
       " '645-acre',\n",
       " '646',\n",
       " '65',\n",
       " '65%',\n",
       " '65,000',\n",
       " '66',\n",
       " '67',\n",
       " '67-year-old',\n",
       " '675',\n",
       " '676',\n",
       " '677',\n",
       " '68',\n",
       " '687.87',\n",
       " '69',\n",
       " '6934',\n",
       " '695',\n",
       " '6:15',\n",
       " '6th',\n",
       " '7',\n",
       " '7,000',\n",
       " '7-6',\n",
       " '7-9',\n",
       " '7-day',\n",
       " '7.19',\n",
       " '7.5',\n",
       " '70',\n",
       " '70,000',\n",
       " '700',\n",
       " '7026',\n",
       " '7034',\n",
       " '704',\n",
       " '707',\n",
       " '71',\n",
       " '72',\n",
       " '72-hole',\n",
       " '72nd',\n",
       " '73',\n",
       " '734',\n",
       " '74',\n",
       " '75',\n",
       " '75-minute',\n",
       " '750',\n",
       " '7599',\n",
       " '75th',\n",
       " '76',\n",
       " '767',\n",
       " '77',\n",
       " '770',\n",
       " '798',\n",
       " '7:30',\n",
       " '7:45',\n",
       " '7A',\n",
       " '8',\n",
       " '8%',\n",
       " '8,000',\n",
       " '8,280',\n",
       " '8,293',\n",
       " '8-4',\n",
       " '8-year-old',\n",
       " '80',\n",
       " '800',\n",
       " '81',\n",
       " '823',\n",
       " '83',\n",
       " '85',\n",
       " '85-piece',\n",
       " '85-student',\n",
       " '86',\n",
       " '869',\n",
       " '87',\n",
       " '87-1/2',\n",
       " '87-31',\n",
       " '87th',\n",
       " '88',\n",
       " '8861',\n",
       " '8:30',\n",
       " '8th',\n",
       " '9',\n",
       " '9,273',\n",
       " '9-6',\n",
       " '9-7',\n",
       " '90',\n",
       " '90%',\n",
       " '90-day',\n",
       " '900',\n",
       " '900,000',\n",
       " '900-student',\n",
       " '92',\n",
       " '923,076',\n",
       " '9230',\n",
       " '93',\n",
       " '9329',\n",
       " '949',\n",
       " '95',\n",
       " '96',\n",
       " '963',\n",
       " '99',\n",
       " '9:30',\n",
       " '9:40',\n",
       " '9th',\n",
       " ':',\n",
       " ';',\n",
       " '?',\n",
       " 'A',\n",
       " \"A's\",\n",
       " 'A.',\n",
       " 'A.A.U.',\n",
       " \"A.A.U.'s\",\n",
       " 'A.M.',\n",
       " 'A135',\n",
       " 'ADC',\n",
       " 'AF',\n",
       " 'AFL-CIO',\n",
       " 'AID',\n",
       " \"AID's\",\n",
       " 'AM',\n",
       " 'AP',\n",
       " 'ARF',\n",
       " 'ASDIC',\n",
       " 'Aaron',\n",
       " 'Abatuno',\n",
       " 'Abbey',\n",
       " 'Abe',\n",
       " 'Abel',\n",
       " 'Abell',\n",
       " 'Abner',\n",
       " 'Abolition',\n",
       " 'About',\n",
       " 'Above',\n",
       " 'Abra',\n",
       " 'Abraham',\n",
       " 'Academy',\n",
       " 'Accardo',\n",
       " 'Accepted',\n",
       " 'Accounting',\n",
       " 'Ace',\n",
       " 'Achaeans',\n",
       " \"Achaeans'\",\n",
       " 'Achievement',\n",
       " 'Acres',\n",
       " 'Act',\n",
       " 'Acting',\n",
       " 'Action',\n",
       " 'Actor-Crooner',\n",
       " 'Actress',\n",
       " 'Actually',\n",
       " 'Adair',\n",
       " \"Adair's\",\n",
       " 'Adam',\n",
       " 'Adams',\n",
       " 'Adamson',\n",
       " 'Adcock',\n",
       " 'Add',\n",
       " 'Adequate',\n",
       " 'Aderholds',\n",
       " 'Adjusted',\n",
       " 'Adlai',\n",
       " 'Administration',\n",
       " \"Administration's\",\n",
       " 'Administrative',\n",
       " 'Administrator',\n",
       " 'Admitting',\n",
       " 'Adnan',\n",
       " 'Advance',\n",
       " 'Adventures',\n",
       " 'Advisors',\n",
       " 'Advisory',\n",
       " 'Aeronautics',\n",
       " 'Affaire',\n",
       " 'Affairs',\n",
       " 'Africa',\n",
       " 'African',\n",
       " 'Afro-Cuban',\n",
       " 'After',\n",
       " 'Afterward',\n",
       " 'Afterwards',\n",
       " 'Again',\n",
       " 'Agencies',\n",
       " 'Agency',\n",
       " 'Aggies',\n",
       " 'Agriculture',\n",
       " 'Ah',\n",
       " 'Aid',\n",
       " 'Aiding',\n",
       " 'Aiken',\n",
       " 'Aikin',\n",
       " 'Ainsley',\n",
       " 'Ainsworth',\n",
       " 'Air',\n",
       " 'Aircraft',\n",
       " \"Airline's\",\n",
       " 'Airlines',\n",
       " 'Airport',\n",
       " 'Aj',\n",
       " 'Al',\n",
       " \"Al's\",\n",
       " 'Ala.',\n",
       " 'Alabama',\n",
       " 'Alan',\n",
       " 'Alba',\n",
       " 'Albacore',\n",
       " 'Albany',\n",
       " 'Albert',\n",
       " 'Alden',\n",
       " 'Aldo',\n",
       " 'Alex',\n",
       " 'Alexander',\n",
       " 'Alexandria',\n",
       " 'Alfred',\n",
       " 'Alice',\n",
       " 'All',\n",
       " 'Alla',\n",
       " 'Allan',\n",
       " 'Allegretti',\n",
       " 'Allen',\n",
       " 'Alliance',\n",
       " 'Allied',\n",
       " 'Allies',\n",
       " 'Allison',\n",
       " \"Allison's\",\n",
       " 'Almost',\n",
       " 'Along',\n",
       " 'Alpha',\n",
       " 'Alpharetta',\n",
       " 'Already',\n",
       " 'Also',\n",
       " 'Alsop',\n",
       " 'Altar',\n",
       " 'Althaus',\n",
       " 'Although',\n",
       " 'Alto',\n",
       " 'Alton',\n",
       " 'Alusik',\n",
       " \"Alusik's\",\n",
       " 'Alva',\n",
       " 'Alvin',\n",
       " 'Always',\n",
       " 'Amateur',\n",
       " 'Ambassador',\n",
       " 'Ambassador-designate',\n",
       " 'Ambulances',\n",
       " 'America',\n",
       " \"America's\",\n",
       " 'American',\n",
       " 'Americana',\n",
       " 'Americans',\n",
       " 'Among',\n",
       " 'An',\n",
       " 'Anaconda',\n",
       " 'Analysts',\n",
       " 'Anatole',\n",
       " 'Ancient',\n",
       " 'And',\n",
       " 'Anderlini',\n",
       " 'Anderson',\n",
       " \"Anderson's\",\n",
       " 'Andover',\n",
       " 'Andrew',\n",
       " 'Andy',\n",
       " 'Angel',\n",
       " 'Angeles',\n",
       " \"Angeles'\",\n",
       " 'Angelico',\n",
       " 'Angelo',\n",
       " 'Angels',\n",
       " 'Angola',\n",
       " 'Anita',\n",
       " 'Ankara',\n",
       " 'Ann',\n",
       " 'Anna',\n",
       " 'Annamorena',\n",
       " 'Annapolis',\n",
       " 'Anne',\n",
       " \"Anne's\",\n",
       " 'Anniston',\n",
       " 'Anniversary',\n",
       " 'Another',\n",
       " 'Anson',\n",
       " 'Answer',\n",
       " 'Anthony',\n",
       " 'Anti-Communist',\n",
       " 'Anticipated',\n",
       " 'Antone',\n",
       " 'Antonio',\n",
       " 'Any',\n",
       " 'Anyone',\n",
       " 'Anywhere',\n",
       " 'Aparicio',\n",
       " 'Apart',\n",
       " 'Apartment',\n",
       " 'Apartments',\n",
       " 'App',\n",
       " 'Apparently',\n",
       " 'Appeal',\n",
       " 'Appeals',\n",
       " 'Appointment',\n",
       " 'Appropriately',\n",
       " 'Appropriations',\n",
       " 'April',\n",
       " 'April-June',\n",
       " 'Aquinas',\n",
       " 'Arab',\n",
       " 'Arata',\n",
       " 'Archives',\n",
       " 'Arden',\n",
       " ...]"
      ]
     },
     "execution_count": 22,
     "metadata": {},
     "output_type": "execute_result"
    }
   ],
   "source": [
    "sorted(set(brown.words(categories='news')))"
   ]
  },
  {
   "cell_type": "markdown",
   "metadata": {},
   "source": [
    "# 8"
   ]
  },
  {
   "cell_type": "code",
   "execution_count": 27,
   "metadata": {
    "collapsed": true
   },
   "outputs": [],
   "source": [
    "d = {'colorer':'adj','abc':'sehjv','words':'bjg'}\n",
    "del d['abc']"
   ]
  },
  {
   "cell_type": "code",
   "execution_count": 28,
   "metadata": {},
   "outputs": [
    {
     "data": {
      "text/plain": [
       "{'colorer': 'adj', 'words': 'bjg'}"
      ]
     },
     "execution_count": 28,
     "metadata": {},
     "output_type": "execute_result"
    }
   ],
   "source": [
    "d"
   ]
  },
  {
   "cell_type": "markdown",
   "metadata": {},
   "source": [
    "# 9"
   ]
  },
  {
   "cell_type": "code",
   "execution_count": 30,
   "metadata": {},
   "outputs": [
    {
     "data": {
      "text/plain": [
       "{'adv': 'huji',\n",
       " 'ae': 'gy',\n",
       " 'bool': 'asdf',\n",
       " 'color': 'red',\n",
       " 'cv': 'adf',\n",
       " 'jk': 'adkl'}"
      ]
     },
     "execution_count": 30,
     "metadata": {},
     "output_type": "execute_result"
    }
   ],
   "source": [
    "# 创建字典d1,d2\n",
    "d1 = {'color':'red','bool':'asdf','jk':'adkl'}\n",
    "d2 = {'cv':'adf','adv':'huji','ae':'gy'}\n",
    "d1.update(d2)\n",
    "d1"
   ]
  },
  {
   "cell_type": "markdown",
   "metadata": {},
   "source": [
    "# 10"
   ]
  },
  {
   "cell_type": "code",
   "execution_count": 31,
   "metadata": {},
   "outputs": [
    {
     "data": {
      "text/plain": [
       "{'example': 'vsdjk',\n",
       " 'headword': 'asdf',\n",
       " 'part-of-speech': 'afsf',\n",
       " 'sense': 'dk'}"
      ]
     },
     "execution_count": 31,
     "metadata": {},
     "output_type": "execute_result"
    }
   ],
   "source": [
    "e={'headword':'asdf','part-of-speech':'afsf','sense':'dk','example':'vsdjk'}\n",
    "e"
   ]
  },
  {
   "cell_type": "markdown",
   "metadata": {},
   "source": [
    "# 11"
   ]
  },
  {
   "cell_type": "code",
   "execution_count": 33,
   "metadata": {
    "collapsed": true
   },
   "outputs": [],
   "source": [
    "from nltk.corpus import brown"
   ]
  },
  {
   "cell_type": "code",
   "execution_count": 34,
   "metadata": {
    "collapsed": true
   },
   "outputs": [],
   "source": [
    "patterns=[('the','DT'),('dog','NN')]"
   ]
  },
  {
   "cell_type": "code",
   "execution_count": 36,
   "metadata": {},
   "outputs": [
    {
     "data": {
      "text/plain": [
       "7.955924180042564e-05"
      ]
     },
     "execution_count": 36,
     "metadata": {},
     "output_type": "execute_result"
    }
   ],
   "source": [
    "regexp_tagger = nltk.RegexpTagger(patterns)\n",
    "regexp_tagger.tag(brown_sents[3])\n",
    "regexp_tagger.evaluate(brown_tagged_sents)"
   ]
  },
  {
   "cell_type": "markdown",
   "metadata": {},
   "source": [
    "# 12"
   ]
  },
  {
   "cell_type": "code",
   "execution_count": 68,
   "metadata": {
    "scrolled": true
   },
   "outputs": [
    {
     "data": {
      "text/plain": [
       "dict_keys(['DET', 'NOUN', 'ADJ', 'VERB', 'ADP', '.', 'ADV', 'CONJ', 'PRT', 'PRON', 'NUM', 'X'])"
      ]
     },
     "execution_count": 68,
     "metadata": {},
     "output_type": "execute_result"
    }
   ],
   "source": [
    "from nltk.corpus import brown\n",
    "brown_sents_tagged = brown.tagged_words(categories='news',tagset = 'universal')\n",
    "tag_fd = nltk.FreqDist(tag for (word,tag) in brown_sents_tagged)\n",
    "tag_fd.keys()"
   ]
  },
  {
   "cell_type": "markdown",
   "metadata": {},
   "source": [
    "# 13"
   ]
  },
  {
   "cell_type": "code",
   "execution_count": 46,
   "metadata": {},
   "outputs": [
    {
     "data": {
      "text/plain": [
       "<BigramTagger: size=3149>"
      ]
     },
     "execution_count": 46,
     "metadata": {},
     "output_type": "execute_result"
    }
   ],
   "source": [
    "from nltk.corpus import brown\n",
    "brown_tagged_sents = brown.tagged_sents(categories='news')\n",
    "brown_sents = brown.sents(categories='news')\n",
    "unigram_tagger = nltk.UnigramTagger(brown_tagged_sents)\n",
    "size = int(len(brown_tagged_sents) * 0.9)\n",
    "train_sents = brown_tagged_sents[:size]\n",
    "t0 = nltk.DefaultTagger('NN')\n",
    "t1 = nltk.UnigramTagger(train_sents,backoff=t0)\n",
    "t2 = nltk.BigramTagger(train_sents,backoff=t1)\n",
    "t2"
   ]
  },
  {
   "cell_type": "markdown",
   "metadata": {},
   "source": [
    "# 14"
   ]
  },
  {
   "cell_type": "code",
   "execution_count": 49,
   "metadata": {},
   "outputs": [
    {
     "data": {
      "text/plain": [
       "[('``', 'NN'),\n",
       " ('Only', 'NN'),\n",
       " ('a', 'NN'),\n",
       " ('relative', 'NN'),\n",
       " ('handful', 'NN'),\n",
       " ('of', 'NN'),\n",
       " ('such', 'NN'),\n",
       " ('reports', 'NNS'),\n",
       " ('was', 'NNS'),\n",
       " ('received', 'VBD'),\n",
       " (\"''\", 'NN'),\n",
       " (',', 'NN'),\n",
       " ('the', 'NN'),\n",
       " ('jury', 'NN'),\n",
       " ('said', 'NN'),\n",
       " (',', 'NN'),\n",
       " ('``', 'NN'),\n",
       " ('considering', 'VBG'),\n",
       " ('the', 'NN'),\n",
       " ('widespread', 'NN'),\n",
       " ('interest', 'NN'),\n",
       " ('in', 'NN'),\n",
       " ('the', 'NN'),\n",
       " ('election', 'NN'),\n",
       " (',', 'NN'),\n",
       " ('the', 'NN'),\n",
       " ('number', 'NN'),\n",
       " ('of', 'NN'),\n",
       " ('voters', 'NNS'),\n",
       " ('and', 'NN'),\n",
       " ('the', 'NN'),\n",
       " ('size', 'NN'),\n",
       " ('of', 'NN'),\n",
       " ('this', 'NNS'),\n",
       " ('city', 'NN'),\n",
       " (\"''\", 'NN'),\n",
       " ('.', 'NN')]"
      ]
     },
     "execution_count": 49,
     "metadata": {},
     "output_type": "execute_result"
    }
   ],
   "source": [
    "from nltk.corpus import brown\n",
    "# 正则表达式标注器\n",
    "patterns=[\n",
    "    (r'.*ing$','VBG'),\n",
    "    (r'.*ed$','VBD'),\n",
    "    (r'.*es$','VBZ'),\n",
    "    (r'.*ould$','MD'),\n",
    "    (r'.*\\'s$','NN$'),\n",
    "    (r'.*s$','NNS'),\n",
    "    (r'.^-?[0-9]+(.[0-9]+)?$','CD'),\n",
    "    (r'.*','NN')\n",
    "]\n",
    "regexp_tagger = nltk.RegexpTagger(patterns)\n",
    "regexp_tagger.tag(brown_sents[3])"
   ]
  },
  {
   "cell_type": "code",
   "execution_count": 48,
   "metadata": {},
   "outputs": [
    {
     "data": {
      "text/plain": [
       "[('Various', 'JJ'),\n",
       " ('of', 'IN'),\n",
       " ('the', 'AT'),\n",
       " ('apartments', 'NNS'),\n",
       " ('are', 'BER'),\n",
       " ('of', 'IN'),\n",
       " ('the', 'AT'),\n",
       " ('terrace', 'NN'),\n",
       " ('type', 'NN'),\n",
       " (',', ','),\n",
       " ('being', 'BEG'),\n",
       " ('on', 'IN'),\n",
       " ('the', 'AT'),\n",
       " ('ground', 'NN'),\n",
       " ('floor', 'NN'),\n",
       " ('so', 'QL'),\n",
       " ('that', 'CS'),\n",
       " ('entrance', 'NN'),\n",
       " ('is', 'BEZ'),\n",
       " ('direct', 'JJ'),\n",
       " ('.', '.')]"
      ]
     },
     "execution_count": 48,
     "metadata": {},
     "output_type": "execute_result"
    }
   ],
   "source": [
    "# 一元标注器\n",
    "from nltk.corpus import brown\n",
    "brown_tagged_sents = brown.tagged_sents(categories='news')\n",
    "brown_sents = brown.sents(categories='news')\n",
    "unigram_tagger = nltk.UnigramTagger(brown_tagged_sents)\n",
    "unigram_tagger.tag(brown_sents[2007])\n"
   ]
  },
  {
   "cell_type": "code",
   "execution_count": 50,
   "metadata": {},
   "outputs": [
    {
     "data": {
      "text/plain": [
       "4160"
      ]
     },
     "execution_count": 50,
     "metadata": {},
     "output_type": "execute_result"
    }
   ],
   "source": [
    "# N-garm的标注\n",
    "size = int(len(brown_tagged_sents) * 0.9)\n",
    "size"
   ]
  },
  {
   "cell_type": "code",
   "execution_count": 51,
   "metadata": {},
   "outputs": [
    {
     "data": {
      "text/plain": [
       "0.8121200039868434"
      ]
     },
     "execution_count": 51,
     "metadata": {},
     "output_type": "execute_result"
    }
   ],
   "source": [
    "train_sents = brown_tagged_sents[:size]\n",
    "test_sents = brown_tagged_sents[size:]\n",
    "unigram_tagger = nltk.UnigramTagger(train_sents)\n",
    "unigram_tagger.evaluate(test_sents)"
   ]
  },
  {
   "cell_type": "code",
   "execution_count": 52,
   "metadata": {},
   "outputs": [
    {
     "data": {
      "text/plain": [
       "[('Various', 'JJ'),\n",
       " ('of', 'IN'),\n",
       " ('the', 'AT'),\n",
       " ('apartments', 'NNS'),\n",
       " ('are', 'BER'),\n",
       " ('of', 'IN'),\n",
       " ('the', 'AT'),\n",
       " ('terrace', 'NN'),\n",
       " ('type', 'NN'),\n",
       " (',', ','),\n",
       " ('being', 'BEG'),\n",
       " ('on', 'IN'),\n",
       " ('the', 'AT'),\n",
       " ('ground', 'NN'),\n",
       " ('floor', 'NN'),\n",
       " ('so', 'CS'),\n",
       " ('that', 'CS'),\n",
       " ('entrance', 'NN'),\n",
       " ('is', 'BEZ'),\n",
       " ('direct', 'JJ'),\n",
       " ('.', '.')]"
      ]
     },
     "execution_count": 52,
     "metadata": {},
     "output_type": "execute_result"
    }
   ],
   "source": [
    "bigram_tagger = nltk.BigramTagger(train_sents)\n",
    "bigram_tagger.tag(brown_sents[2007])"
   ]
  },
  {
   "cell_type": "code",
   "execution_count": 53,
   "metadata": {},
   "outputs": [
    {
     "data": {
      "text/plain": [
       "[('The', 'AT'),\n",
       " ('population', 'NN'),\n",
       " ('of', 'IN'),\n",
       " ('the', 'AT'),\n",
       " ('Congo', 'NP'),\n",
       " ('is', 'BEZ'),\n",
       " ('13.5', None),\n",
       " ('million', None),\n",
       " (',', None),\n",
       " ('divided', None),\n",
       " ('into', None),\n",
       " ('at', None),\n",
       " ('least', None),\n",
       " ('seven', None),\n",
       " ('major', None),\n",
       " ('``', None),\n",
       " ('culture', None),\n",
       " ('clusters', None),\n",
       " (\"''\", None),\n",
       " ('and', None),\n",
       " ('innumerable', None),\n",
       " ('tribes', None),\n",
       " ('speaking', None),\n",
       " ('400', None),\n",
       " ('separate', None),\n",
       " ('dialects', None),\n",
       " ('.', None)]"
      ]
     },
     "execution_count": 53,
     "metadata": {},
     "output_type": "execute_result"
    }
   ],
   "source": [
    "unseen_sent = brown_sents[4203]\n",
    "bigram_tagger.tag(unseen_sent)"
   ]
  },
  {
   "cell_type": "markdown",
   "metadata": {},
   "source": [
    "# 15"
   ]
  },
  {
   "cell_type": "code",
   "execution_count": 56,
   "metadata": {},
   "outputs": [
    {
     "data": {
      "text/plain": [
       "[('The', 'AT'),\n",
       " ('population', 'NN'),\n",
       " ('of', 'IN'),\n",
       " ('the', 'AT'),\n",
       " ('Congo', 'NP'),\n",
       " ('is', 'BEZ'),\n",
       " ('13.5', None),\n",
       " ('million', None),\n",
       " (',', None),\n",
       " ('divided', None),\n",
       " ('into', None),\n",
       " ('at', None),\n",
       " ('least', None),\n",
       " ('seven', None),\n",
       " ('major', None),\n",
       " ('``', None),\n",
       " ('culture', None),\n",
       " ('clusters', None),\n",
       " (\"''\", None),\n",
       " ('and', None),\n",
       " ('innumerable', None),\n",
       " ('tribes', None),\n",
       " ('speaking', None),\n",
       " ('400', None),\n",
       " ('separate', None),\n",
       " ('dialects', None),\n",
       " ('.', None)]"
      ]
     },
     "execution_count": 56,
     "metadata": {},
     "output_type": "execute_result"
    }
   ],
   "source": [
    "size = int(len(brown_tagged_sents) * 0.9)\n",
    "train_sents = brown_tagged_sents[:size]\n",
    "test_sents = brown_tagged_sents[size:]\n",
    "unigram_tagger = nltk.UnigramTagger(train_sents)\n",
    "bigram_tagger = nltk.BigramTagger(train_sents)\n",
    "bigram_tagger.tag(brown_sents[2007])\n",
    "unseen_sent = brown_sents[4203]\n",
    "bigram_tagger.tag(unseen_sent)"
   ]
  },
  {
   "cell_type": "markdown",
   "metadata": {},
   "source": [
    "# 16"
   ]
  },
  {
   "cell_type": "code",
   "execution_count": 69,
   "metadata": {},
   "outputs": [
    {
     "data": {
      "text/plain": [
       "[('The', 'AT'), ('Fulton', 'NP-TL'), ...]"
      ]
     },
     "execution_count": 69,
     "metadata": {},
     "output_type": "execute_result"
    }
   ],
   "source": [
    "nltk.corpus.brown.tagged_words()"
   ]
  },
  {
   "cell_type": "code",
   "execution_count": 71,
   "metadata": {},
   "outputs": [
    {
     "data": {
      "text/plain": [
       "[('The', 'DET'), ('Fulton', 'NOUN'), ...]"
      ]
     },
     "execution_count": 71,
     "metadata": {},
     "output_type": "execute_result"
    }
   ],
   "source": [
    "nltk.corpus.brown.tagged_words(tagset = 'universal')"
   ]
  },
  {
   "cell_type": "markdown",
   "metadata": {},
   "source": [
    "# 17"
   ]
  },
  {
   "cell_type": "code",
   "execution_count": 72,
   "metadata": {},
   "outputs": [
    {
     "data": {
      "text/plain": [
       "0.10206319146815508"
      ]
     },
     "execution_count": 72,
     "metadata": {},
     "output_type": "execute_result"
    }
   ],
   "source": [
    "t0 = nltk.DefaultTagger('anti-grams')\n",
    "t1 = nltk.BigramTagger(train_sents,backoff=t0)\n",
    "t1.evaluate(test_sents)"
   ]
  },
  {
   "cell_type": "markdown",
   "metadata": {},
   "source": [
    "# 18"
   ]
  },
  {
   "cell_type": "code",
   "execution_count": 3,
   "metadata": {},
   "outputs": [
    {
     "data": {
      "text/plain": [
       "<UnigramTagger: size=14394>"
      ]
     },
     "execution_count": 3,
     "metadata": {},
     "output_type": "execute_result"
    }
   ],
   "source": [
    "from nltk.corpus import brown\n",
    "brown_tagged_sents = brown.tagged_sents(categories='news')\n",
    "brown_sents = brown.sents(categories='news')\n",
    "unigram_tagger = nltk.UnigramTagger(brown_tagged_sents)\n",
    "unigram_tagger"
   ]
  },
  {
   "cell_type": "code",
   "execution_count": 4,
   "metadata": {},
   "outputs": [
    {
     "data": {
      "text/plain": [
       "<BigramTagger: size=33701>"
      ]
     },
     "execution_count": 4,
     "metadata": {},
     "output_type": "execute_result"
    }
   ],
   "source": [
    "bigram_tagger = nltk.BigramTagger(brown_tagged_sents)\n",
    "bigram_tagger"
   ]
  },
  {
   "cell_type": "code",
   "execution_count": 5,
   "metadata": {},
   "outputs": [
    {
     "data": {
      "text/plain": [
       "<TrigramTagger: size=53758>"
      ]
     },
     "execution_count": 5,
     "metadata": {},
     "output_type": "execute_result"
    }
   ],
   "source": [
    "train_sents = nltk.TrigramTagger(brown_tagged_sents)\n",
    "train_sents"
   ]
  },
  {
   "cell_type": "markdown",
   "metadata": {},
   "source": [
    "# 19"
   ]
  },
  {
   "cell_type": "code",
   "execution_count": 6,
   "metadata": {},
   "outputs": [
    {
     "data": {
      "text/plain": [
       "0.1914195357718241"
      ]
     },
     "execution_count": 6,
     "metadata": {},
     "output_type": "execute_result"
    }
   ],
   "source": [
    "from nltk.corpus import brown\n",
    "import nltk\n",
    "# 正则表达式标注器\n",
    "patterns=[\n",
    "    (r'.*ing$','VBG'),\n",
    "    (r'.*ed$','VBD'),\n",
    "    (r'.*es$','VBZ'),\n",
    "    (r'.*ould$','MD'),\n",
    "    (r'.*\\'s$','NN$'),\n",
    "    (r'.*s$','NNS'),\n",
    "    (r'.^-?[0-9]+(.[0-9]+)?$','CD'),\n",
    "    (r'.*','NN')\n",
    "]\n",
    "\n",
    "# later = list(patterns)\n",
    "regexp_tagger = nltk.RegexpTagger(patterns)\n",
    "regexp_tagger.tag(brown_sents[3])\n",
    "regexp_tagger.evaluate(brown_tagged_sents)"
   ]
  },
  {
   "cell_type": "markdown",
   "metadata": {},
   "source": [
    "# 20"
   ]
  },
  {
   "cell_type": "code",
   "execution_count": 105,
   "metadata": {},
   "outputs": [
    {
     "data": {
      "text/plain": [
       "0.8198679316586113"
      ]
     },
     "execution_count": 105,
     "metadata": {},
     "output_type": "execute_result"
    }
   ],
   "source": [
    "from nltk.corpus import brown\n",
    "brown_tagged_sents = brown.tagged_sents(categories='news')\n",
    "brown_sents = brown.sents(categories='news')\n",
    "train_sents = nltk.TrigramTagger(brown_tagged_sents)\n",
    "train_sents.evaluate(brown_tagged_sents)"
   ]
  },
  {
   "cell_type": "code",
   "execution_count": null,
   "metadata": {
    "collapsed": true
   },
   "outputs": [],
   "source": []
  }
 ],
 "metadata": {
  "kernelspec": {
   "display_name": "Python 3",
   "language": "python",
   "name": "python3"
  },
  "language_info": {
   "codemirror_mode": {
    "name": "ipython",
    "version": 3
   },
   "file_extension": ".py",
   "mimetype": "text/x-python",
   "name": "python",
   "nbconvert_exporter": "python",
   "pygments_lexer": "ipython3",
   "version": "3.6.1"
  }
 },
 "nbformat": 4,
 "nbformat_minor": 2
}
